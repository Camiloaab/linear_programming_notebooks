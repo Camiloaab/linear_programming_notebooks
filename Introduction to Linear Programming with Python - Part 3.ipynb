{
 "cells": [
  {
   "cell_type": "markdown",
   "metadata": {},
   "source": [
    "# Introduction to Linear Programming with Python - Part 3\n",
    "## Real world examples - Resourcing Problem"
   ]
  },
  {
   "cell_type": "markdown",
   "metadata": {},
   "source": [
    "We'll now look at 2 more real world examples. \n",
    "\n",
    "The first is a resourcing problem and the second is a blending problem.\n",
    "\n",
    "\n",
    "### Resourcing Problem"
   ]
  },
  {
   "cell_type": "markdown",
   "metadata": {},
   "source": [
    "We're consulting for a boutique car manufacturer, producing luxury cars.\n",
    "\n",
    "They run on one month (30 days) cycles, we have one cycle to show we can provide value.\n",
    "\n",
    "There is one robot, 2 engineers and one detailer in the factory. The detailer has some holiday off, so only has 21 days available.\n",
    "\n",
    "The 2 cars need different time with each resource:\n",
    "\n",
    "**Robot time:** Car A - 3 days; Car B - 4 days.\n",
    "\n",
    "**Engineer time:** Car A - 5 days; Car B - 6 days.\n",
    "\n",
    "**Detailer time:** Car A - 1.5 days; Car B - 3 days.\n",
    "\n",
    "Car A provides €30,000 profit, whilst Car B offers €45,000 profit.\n",
    "\n",
    "At the moment, they produce 4 of each cars per month, for €300,000 profit. Not bad at all, but we think we can do better for them."
   ]
  },
  {
   "cell_type": "markdown",
   "metadata": {},
   "source": [
    "This can be modelled as follows:\n",
    "\n",
    "Maximise\n",
    "\n",
    "Profit = 30,000A + 45,000B\n",
    "\n",
    "Subject to:\n",
    "\n",
    "A ≥ 0\n",
    "\n",
    "B ≥ 0\n",
    "\n",
    "3A + 4B  ≤ 30\n",
    "\n",
    "5A + 6B  ≤ 60\n",
    "\n",
    "1.5A + 3B  ≤ 21"
   ]
  },
  {
   "cell_type": "code",
   "execution_count": 1,
   "metadata": {
    "collapsed": true
   },
   "outputs": [],
   "source": [
    "import pulp"
   ]
  },
  {
   "cell_type": "code",
   "execution_count": 2,
   "metadata": {
    "collapsed": true
   },
   "outputs": [
    {
     "name": "stderr",
     "output_type": "stream",
     "text": [
      "/opt/miniconda3/envs/topics_alg/lib/python3.9/site-packages/pulp/pulp.py:1424: UserWarning: Spaces are not permitted in the name. Converted to '_'\n",
      "  warnings.warn(\"Spaces are not permitted in the name. Converted to '_'\")\n"
     ]
    }
   ],
   "source": [
    "# Instantiate our problem class\n",
    "model = pulp.LpProblem(\"Profit maximising problem\", pulp.LpMaximize)"
   ]
  },
  {
   "cell_type": "markdown",
   "metadata": {},
   "source": [
    "Unlike our previous problem, the decision variables in this case won't be continuous (We can't sell half a car!), so the category is integer."
   ]
  },
  {
   "cell_type": "code",
   "execution_count": 3,
   "metadata": {
    "collapsed": true
   },
   "outputs": [],
   "source": [
    "A = pulp.LpVariable('A', lowBound=0, cat='Integer')\n",
    "B = pulp.LpVariable('B', lowBound=0, cat='Integer')"
   ]
  },
  {
   "cell_type": "code",
   "execution_count": 4,
   "metadata": {
    "collapsed": true
   },
   "outputs": [],
   "source": [
    "# Objective function\n",
    "model += 30000 * A + 45000 * B, \"Profit\"\n",
    "\n",
    "# Constraints\n",
    "model += 3 * A + 4 * B <= 30\n",
    "model += 5 * A + 6 * B <= 60\n",
    "model += 1.5 * A + 3 * B <= 21"
   ]
  },
  {
   "cell_type": "code",
   "execution_count": 5,
   "metadata": {
    "collapsed": false
   },
   "outputs": [
    {
     "name": "stdout",
     "output_type": "stream",
     "text": [
      "Welcome to the CBC MILP Solver \n",
      "Version: 2.10.3 \n",
      "Build Date: Dec 15 2019 \n",
      "\n",
      "command line - /opt/miniconda3/envs/topics_alg/lib/python3.9/site-packages/pulp/apis/../solverdir/cbc/osx/i64/cbc /var/folders/_l/7xr3qhx50rl1tsc0s6dt78hr0000gn/T/dfe350d4df6e413691a03fd91b2cefcc-pulp.mps -max -timeMode elapsed -branch -printingOptions all -solution /var/folders/_l/7xr3qhx50rl1tsc0s6dt78hr0000gn/T/dfe350d4df6e413691a03fd91b2cefcc-pulp.sol (default strategy 1)\n",
      "At line 2 NAME          MODEL\n",
      "At line 3 ROWS\n",
      "At line 8 COLUMNS\n",
      "At line 21 RHS\n",
      "At line 25 BOUNDS\n",
      "At line 28 ENDATA\n",
      "Problem MODEL has 3 rows, 2 columns and 6 elements\n",
      "Coin0008I MODEL read with 0 errors\n",
      "Option for timeMode changed from cpu to elapsed\n",
      "Continuous objective value is 330000 - 0.00 seconds\n",
      "Cgl0004I processed model has 3 rows, 2 columns (2 integer (0 of which binary)) and 6 elements\n",
      "Cutoff increment increased from 1e-05 to 15000\n",
      "Cbc0012I Integer solution of -330000 found by DiveCoefficient after 0 iterations and 0 nodes (0.00 seconds)\n",
      "Cbc0001I Search completed - best objective -330000, took 0 iterations and 0 nodes (0.00 seconds)\n",
      "Cbc0035I Maximum depth 0, 0 variables fixed on reduced cost\n",
      "Cuts at root node changed objective from -330000 to -330000\n",
      "Probing was tried 0 times and created 0 cuts of which 0 were active after adding rounds of cuts (0.000 seconds)\n",
      "Gomory was tried 0 times and created 0 cuts of which 0 were active after adding rounds of cuts (0.000 seconds)\n",
      "Knapsack was tried 0 times and created 0 cuts of which 0 were active after adding rounds of cuts (0.000 seconds)\n",
      "Clique was tried 0 times and created 0 cuts of which 0 were active after adding rounds of cuts (0.000 seconds)\n",
      "MixedIntegerRounding2 was tried 0 times and created 0 cuts of which 0 were active after adding rounds of cuts (0.000 seconds)\n",
      "FlowCover was tried 0 times and created 0 cuts of which 0 were active after adding rounds of cuts (0.000 seconds)\n",
      "TwoMirCuts was tried 0 times and created 0 cuts of which 0 were active after adding rounds of cuts (0.000 seconds)\n",
      "ZeroHalf was tried 0 times and created 0 cuts of which 0 were active after adding rounds of cuts (0.000 seconds)\n",
      "\n",
      "Result - Optimal solution found\n",
      "\n",
      "Objective value:                330000.00000000\n",
      "Enumerated nodes:               0\n",
      "Total iterations:               0\n",
      "Time (CPU seconds):             0.00\n",
      "Time (Wallclock seconds):       0.00\n",
      "\n",
      "Option for printingOptions changed from normal to all\n",
      "Total time (CPU seconds):       0.00   (Wallclock seconds):       0.00\n",
      "\n"
     ]
    },
    {
     "data": {
      "text/plain": [
       "'Optimal'"
      ]
     },
     "execution_count": 5,
     "metadata": {},
     "output_type": "execute_result"
    }
   ],
   "source": [
    "# Solve our problem\n",
    "model.solve()\n",
    "pulp.LpStatus[model.status]"
   ]
  },
  {
   "cell_type": "code",
   "execution_count": 8,
   "metadata": {},
   "outputs": [
    {
     "name": "stdout",
     "output_type": "stream",
     "text": [
      "Production of Car A = 2.0\n",
      "Production of Car B = 6.0\n"
     ]
    }
   ],
   "source": [
    "print(\"Production of Car A = {}\".format(A.varValue))\n",
    "print(\"Production of Car B = {}\".format(B.varValue))\n"
   ]
  },
  {
   "cell_type": "code",
   "execution_count": 10,
   "metadata": {
    "collapsed": false
   },
   "outputs": [
    {
     "name": "stdout",
     "output_type": "stream",
     "text": [
      "Welcome to the CBC MILP Solver \n",
      "Version: 2.10.3 \n",
      "Build Date: Dec 15 2019 \n",
      "\n",
      "command line - /opt/miniconda3/envs/topics_alg/lib/python3.9/site-packages/pulp/apis/../solverdir/cbc/osx/i64/cbc /var/folders/_l/7xr3qhx50rl1tsc0s6dt78hr0000gn/T/0ec7f6b57ff84c28876889319ce2b48c-pulp.mps -max -timeMode elapsed -branch -printingOptions all -solution /var/folders/_l/7xr3qhx50rl1tsc0s6dt78hr0000gn/T/0ec7f6b57ff84c28876889319ce2b48c-pulp.sol (default strategy 1)\n",
      "At line 2 NAME          MODEL\n",
      "At line 3 ROWS\n",
      "At line 5 COLUMNS\n",
      "At line 8 RHS\n",
      "At line 9 BOUNDS\n",
      "At line 10 ENDATA\n",
      "Problem MODEL has 0 rows, 2 columns and 0 elements\n",
      "Coin0008I MODEL read with 0 errors\n",
      "Option for timeMode changed from cpu to elapsed\n",
      "Empty problem - 0 rows, 2 columns and 0 elements\n",
      "Dual infeasible - objective value -0\n",
      "DualInfeasible objective -0 - 0 iterations time 0.002\n",
      "\n",
      "Result - Linear relaxation unbounded\n",
      "\n",
      "Enumerated nodes:           0\n",
      "Total iterations:           0\n",
      "Time (CPU seconds):         0.00\n",
      "Time (Wallclock Seconds):   0.01\n",
      "\n",
      "Option for printingOptions changed from normal to all\n",
      "Total time (CPU seconds):       0.00   (Wallclock seconds):       0.01\n",
      "\n",
      "0.0\n"
     ]
    }
   ],
   "source": [
    "from pulp import LpProblem, LpVariable, LpMaximize, value\n",
    "\n",
    "# Define your model and variables\n",
    "model = LpProblem(\"My_LP_Problem\", LpMaximize)\n",
    "A = LpVariable('A', lowBound=0)\n",
    "B = LpVariable('B', lowBound=0)\n",
    "\n",
    "# Define the objective function and constraints\n",
    "model += 4 * A + 3 * B  # Objective function\n",
    "# Add your constraints here\n",
    "\n",
    "# Solve the model\n",
    "model.solve()\n",
    "\n",
    "# Print the optimal value of the objective function\n",
    "print(value(model.objective))\n"
   ]
  },
  {
   "cell_type": "markdown",
   "metadata": {},
   "source": [
    "So that's €330,000 monthly profit, compared to their original monthly profit of €300,000\n",
    "\n",
    "By producing 2 cars of Car A and 4 cars of Car B, we bolster the profits at the factory by €30,000 per month.\n",
    "\n",
    "We take our consultancy fee and leave the company with €360,000 extra profit for the factory every year.\n",
    "\n",
    "In the next part, we'll be making some sausages!"
   ]
  }
 ],
 "metadata": {
  "kernelspec": {
   "display_name": "topics_alg",
   "language": "python",
   "name": "python3"
  },
  "language_info": {
   "codemirror_mode": {
    "name": "ipython",
    "version": 3
   },
   "file_extension": ".py",
   "mimetype": "text/x-python",
   "name": "python",
   "nbconvert_exporter": "python",
   "pygments_lexer": "ipython3",
   "version": "3.9.21"
  }
 },
 "nbformat": 4,
 "nbformat_minor": 0
}
