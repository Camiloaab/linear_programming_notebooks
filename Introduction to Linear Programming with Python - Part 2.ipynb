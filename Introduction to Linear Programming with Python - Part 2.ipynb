{
 "cells": [
  {
   "cell_type": "markdown",
   "metadata": {},
   "source": [
    "# Introduction to Linear Programming with Python - Part 2\n",
    "## Introduction to PuLP"
   ]
  },
  {
   "cell_type": "markdown",
   "metadata": {},
   "source": [
    "[PuLP](http://pythonhosted.org/PuLP/) is an open source linear programming package for python. PuLP can be installed using pip, instructions [here](http://pythonhosted.org/PuLP/main/installing_pulp_at_home.html).\n",
    "\n",
    "In this notebook, we'll explore how to construct and solve the linear programming problem described in Part 1 using PuLP.\n",
    "\n",
    "A brief reminder of our linear programming problem:\n",
    "\n",
    "We want to find the maximum solution to the objective function:\n",
    "\n",
    "Z = 4x + 3y\n",
    "\n",
    "Subject to the following constraints:\n",
    "\n",
    "  x ≥ 0  \n",
    "  y ≥ 2  \n",
    "  2y ≤ 25 - x  \n",
    "  4y ≥ 2x - 8  \n",
    "  y ≤ 2x - 5  "
   ]
  },
  {
   "cell_type": "markdown",
   "metadata": {},
   "source": [
    "We'll begin by importing PuLP"
   ]
  },
  {
   "cell_type": "code",
   "execution_count": 2,
   "metadata": {
    "collapsed": true
   },
   "outputs": [],
   "source": [
    "import pulp"
   ]
  },
  {
   "cell_type": "markdown",
   "metadata": {},
   "source": [
    "Then instantiate a problem class, we'll name it \"My LP problem\" and we're looking for an optimal maximum so we use LpMaximize"
   ]
  },
  {
   "cell_type": "code",
   "execution_count": 3,
   "metadata": {
    "collapsed": false
   },
   "outputs": [
    {
     "name": "stderr",
     "output_type": "stream",
     "text": [
      "/opt/miniconda3/envs/topics_alg/lib/python3.9/site-packages/pulp/pulp.py:1424: UserWarning: Spaces are not permitted in the name. Converted to '_'\n",
      "  warnings.warn(\"Spaces are not permitted in the name. Converted to '_'\")\n"
     ]
    }
   ],
   "source": [
    "my_lp_problem = pulp.LpProblem(\"My LP Problem\", pulp.LpMaximize)"
   ]
  },
  {
   "cell_type": "markdown",
   "metadata": {},
   "source": [
    "We then model our decision variables using the LpVariable class. In our example, x had a lower bound of 0 and y had a lower bound of 2.\n",
    "\n",
    "Upper bounds can be assigned using the upBound parameter."
   ]
  },
  {
   "cell_type": "code",
   "execution_count": 4,
   "metadata": {
    "collapsed": false
   },
   "outputs": [],
   "source": [
    "x = pulp.LpVariable('x', lowBound=0, cat='Continuous')\n",
    "y = pulp.LpVariable('y', lowBound=2, cat='Continuous')"
   ]
  },
  {
   "cell_type": "markdown",
   "metadata": {},
   "source": [
    "The objective function and constraints are added using the += operator to our model. \n",
    "\n",
    "The objective function is added first, then the individual constraints."
   ]
  },
  {
   "cell_type": "code",
   "execution_count": 5,
   "metadata": {
    "collapsed": true
   },
   "outputs": [],
   "source": [
    "# Objective function\n",
    "my_lp_problem += 4 * x + 3 * y, \"Z\"\n",
    "\n",
    "# Constraints\n",
    "my_lp_problem += 2 * y <= 25 - x\n",
    "my_lp_problem += 4 * y >= 2 * x - 8\n",
    "my_lp_problem += y <= 2 * x - 5"
   ]
  },
  {
   "cell_type": "markdown",
   "metadata": {},
   "source": [
    "We have now constructed our problem and can have a look at it."
   ]
  },
  {
   "cell_type": "code",
   "execution_count": 6,
   "metadata": {
    "collapsed": false
   },
   "outputs": [
    {
     "data": {
      "text/plain": [
       "My_LP_Problem:\n",
       "MAXIMIZE\n",
       "4*x + 3*y + 0\n",
       "SUBJECT TO\n",
       "_C1: x + 2 y <= 25\n",
       "\n",
       "_C2: - 2 x + 4 y >= -8\n",
       "\n",
       "_C3: - 2 x + y <= -5\n",
       "\n",
       "VARIABLES\n",
       "x Continuous\n",
       "2 <= y Continuous"
      ]
     },
     "execution_count": 6,
     "metadata": {},
     "output_type": "execute_result"
    }
   ],
   "source": [
    "my_lp_problem"
   ]
  },
  {
   "cell_type": "markdown",
   "metadata": {},
   "source": [
    "PuLP supports open source linear programming solvers such as CBC and GLPK, as well as commercial solvers such as Gurobi and IBM's CPLEX.\n",
    "\n",
    "The default solver is CBC, which comes packaged with PuLP upon installation.\n",
    "\n",
    "For most applications, the open source CBC from [COIN-OR](http://www.coin-or.org/) will be enough for most simple linear programming optimisation algorithms."
   ]
  },
  {
   "cell_type": "code",
   "execution_count": 7,
   "metadata": {
    "collapsed": false
   },
   "outputs": [
    {
     "name": "stdout",
     "output_type": "stream",
     "text": [
      "Welcome to the CBC MILP Solver \n",
      "Version: 2.10.3 \n",
      "Build Date: Dec 15 2019 \n",
      "\n",
      "command line - /opt/miniconda3/envs/topics_alg/lib/python3.9/site-packages/pulp/apis/../solverdir/cbc/osx/i64/cbc /var/folders/_l/7xr3qhx50rl1tsc0s6dt78hr0000gn/T/5592fe9281ed499f9b4b35f3e1bc50e5-pulp.mps -max -timeMode elapsed -branch -printingOptions all -solution /var/folders/_l/7xr3qhx50rl1tsc0s6dt78hr0000gn/T/5592fe9281ed499f9b4b35f3e1bc50e5-pulp.sol (default strategy 1)\n",
      "At line 2 NAME          MODEL\n",
      "At line 3 ROWS\n",
      "At line 8 COLUMNS\n",
      "At line 17 RHS\n",
      "At line 21 BOUNDS\n",
      "At line 23 ENDATA\n",
      "Problem MODEL has 3 rows, 2 columns and 6 elements\n",
      "Coin0008I MODEL read with 0 errors\n",
      "Option for timeMode changed from cpu to elapsed\n",
      "Presolve 3 (0) rows, 2 (0) columns and 6 (0) elements\n",
      "0  Obj 6 Primal inf 3.4999999 (1) Dual inf 6.9999998 (2)\n",
      "0  Obj 6 Primal inf 3.4999999 (1) Dual inf 1e+10 (1)\n",
      "2  Obj 73.75\n",
      "Optimal - objective value 73.75\n",
      "Optimal objective 73.75 - 2 iterations time 0.002\n",
      "Option for printingOptions changed from normal to all\n",
      "Total time (CPU seconds):       0.00   (Wallclock seconds):       0.00\n",
      "\n"
     ]
    },
    {
     "data": {
      "text/plain": [
       "'Optimal'"
      ]
     },
     "execution_count": 7,
     "metadata": {},
     "output_type": "execute_result"
    }
   ],
   "source": [
    "my_lp_problem.solve()\n",
    "pulp.LpStatus[my_lp_problem.status]"
   ]
  },
  {
   "cell_type": "markdown",
   "metadata": {},
   "source": [
    "We have also checked the status of the solver, there are 5 status codes:\n",
    "* **Not Solved**: Status prior to solving the problem.\n",
    "* **Optimal**: An optimal solution has been found.\n",
    "* **Infeasible**: There are no feasible solutions (e.g. if you set the constraints x <= 1 and x >=2).\n",
    "* **Unbounded**: The constraints are not bounded, maximising the solution will tend towards infinity (e.g. if the only constraint was x >= 3).\n",
    "* **Undefined**: The optimal solution may exist but may not have been found."
   ]
  },
  {
   "cell_type": "markdown",
   "metadata": {},
   "source": [
    "We can now view our maximal variable values and the maximum value of Z. \n",
    "\n",
    "We can use the varValue method to retrieve the values of our variables x and y, and the pulp.value function to view the maximum value of the objective function."
   ]
  },
  {
   "cell_type": "code",
   "execution_count": 12,
   "metadata": {},
   "outputs": [
    {
     "name": "stdout",
     "output_type": "stream",
     "text": [
      "x = 14.5\n",
      "y = 5.25\n"
     ]
    }
   ],
   "source": [
    "for variable in my_lp_problem.variables():  \n",
    "    print(\"{} = {}\".format(variable.name, variable.varValue))\n"
   ]
  },
  {
   "cell_type": "code",
   "execution_count": 14,
   "metadata": {},
   "outputs": [
    {
     "name": "stdout",
     "output_type": "stream",
     "text": [
      "Optimal Objective Value: 73.75\n"
     ]
    }
   ],
   "source": [
    "from pulp import value\n",
    "\n",
    "print(\"Optimal Objective Value:\", value(my_lp_problem.objective))"
   ]
  },
  {
   "cell_type": "markdown",
   "metadata": {},
   "source": [
    " Same values as our manual calculations in part 1.\n",
    " \n",
    " In the next part we'll be looking at a more real world problem."
   ]
  }
 ],
 "metadata": {
  "kernelspec": {
   "display_name": "topics_alg",
   "language": "python",
   "name": "python3"
  },
  "language_info": {
   "codemirror_mode": {
    "name": "ipython",
    "version": 3
   },
   "file_extension": ".py",
   "mimetype": "text/x-python",
   "name": "python",
   "nbconvert_exporter": "python",
   "pygments_lexer": "ipython3",
   "version": "3.9.21"
  }
 },
 "nbformat": 4,
 "nbformat_minor": 0
}
