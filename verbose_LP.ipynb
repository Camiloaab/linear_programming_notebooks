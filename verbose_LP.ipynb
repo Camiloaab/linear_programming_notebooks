{
 "cells": [
  {
   "cell_type": "markdown",
   "metadata": {},
   "source": [
    "## Simplex Algorithm"
   ]
  },
  {
   "cell_type": "code",
   "execution_count": 1,
   "metadata": {},
   "outputs": [],
   "source": [
    "import numpy as np\n",
    "from typing import List, Tuple\n",
    "np.set_printoptions(precision=6, suppress=True)\n",
    "from pulp import LpProblem, LpVariable, LpMinimize, LpMaximize, value, PULP_CBC_CMD\n"
   ]
  },
  {
   "cell_type": "markdown",
   "metadata": {},
   "source": [
    "### Numpy implementation of the simplex method"
   ]
  },
  {
   "cell_type": "code",
   "execution_count": 2,
   "metadata": {},
   "outputs": [],
   "source": [
    "\n",
    "\n",
    "TOL = 1e-12   # tolerancia numérica\n",
    "\n",
    "\n",
    "# --------------------------------------------------------------\n",
    "#  utilidades de pivoteo\n",
    "# --------------------------------------------------------------\n",
    "def _pivot(T: np.ndarray, r: int, s: int) -> None:\n",
    "    \"\"\"Pivot in-place sobre el tableau T (fila r, columna s).\"\"\"\n",
    "    T[r] /= T[r, s]\n",
    "    m, _ = T.shape\n",
    "    for i in range(m):\n",
    "        if i != r:\n",
    "            T[i] -= T[i, s] * T[r]\n",
    "\n",
    "\n",
    "def _bland_enter(rc: np.ndarray, nonbasic: List[int]) -> int:\n",
    "    \"\"\"Devuelve índice column que entra (o -1 si todos rc ≥ 0).\"\"\"\n",
    "    for j, red in zip(nonbasic, rc):\n",
    "        if red < -TOL:\n",
    "            return j\n",
    "    return -1\n",
    "\n",
    "\n",
    "def _ratio_test(rhs: np.ndarray,\n",
    "                col: np.ndarray,\n",
    "                basic: List[int]) -> Tuple[int, float]:\n",
    "    \"\"\"Devuelve (fila que sale, theta*).  Bland en empates.\"\"\"\n",
    "    theta_min = np.inf\n",
    "    leave = -1\n",
    "    for i, (b_i, d_i) in enumerate(zip(rhs, col)):\n",
    "        if d_i > TOL:\n",
    "            theta = b_i / d_i\n",
    "            if theta < theta_min - TOL:\n",
    "                theta_min, leave = theta, i\n",
    "            elif abs(theta - theta_min) < TOL and basic[i] < basic[leave]:\n",
    "                leave = i\n",
    "    return leave, theta_min\n",
    "\n",
    "\n",
    "# --------------------------------------------------------------\n",
    "#  algoritmo principal\n",
    "# --------------------------------------------------------------\n",
    "def simplex(A: np.ndarray,\n",
    "            b: np.ndarray,\n",
    "            c: np.ndarray,\n",
    "            verbose: bool = True\n",
    "            ) -> Tuple[np.ndarray, float, List[int]]:\n",
    "    \"\"\"\n",
    "    Símplex de dos fases (minimización).\n",
    "\n",
    "    Devuelve:\n",
    "        x_opt : vector de las n variables originales\n",
    "        z_opt : valor óptimo de cᵀx\n",
    "        base  : índices básicos (respecto a las variables originales)\n",
    "    Lanza ValueError si el problema es infactible o no acotado.\n",
    "    \"\"\"\n",
    "    A = A.astype(float).copy()\n",
    "    b = b.astype(float).copy()\n",
    "    c = c.astype(float).copy()\n",
    "    m, n = A.shape\n",
    "\n",
    "    # Asegurar b ≥ 0  --------------------------------------------------\n",
    "    for i in range(m):\n",
    "        if b[i] < 0:\n",
    "            A[i] *= -1\n",
    "            b[i] *= -1\n",
    "\n",
    "    # Tableau inicial  [A | I | b]  -----------------------------------\n",
    "    T = np.hstack((A, np.eye(m), b.reshape(-1, 1)))\n",
    "    total = n + m                  # nº columnas sin RHS\n",
    "\n",
    "    basic     = list(range(n, n + m))   # artificiales\n",
    "    nonbasic  = list(range(n))          # originales\n",
    "\n",
    "    # --------- FASE I: minimizar suma de artificiales ----------------\n",
    "    cost1 = np.concatenate((np.zeros(n), np.ones(m), [0.0]))\n",
    "    # hacer canónica\n",
    "    for i in range(m):\n",
    "        cost1 -= T[i]\n",
    "    T = np.vstack((T, cost1))\n",
    "    phase = 1\n",
    "\n",
    "    while True:\n",
    "        # ------------------ impresión -------------------------------\n",
    "        if verbose:\n",
    "            z_phase = T[-1, -1] if phase == 1 else -T[-1, -1]\n",
    "            print(f\"Fase {phase}  Base {basic}  z = {z_phase:.6g}\")\n",
    "\n",
    "        # costes reducidos\n",
    "        rc = T[-1, nonbasic]\n",
    "        j_enter = _bland_enter(rc, nonbasic)\n",
    "        if j_enter == -1:                         # óptimo en fase actual\n",
    "            if phase == 1:\n",
    "                if T[-1, -1] > 1e-8:\n",
    "                    raise ValueError(\"Problema infactible (Fase I > 0).\")\n",
    "\n",
    "                # *Sacar* artificiales que sigan en la base -------------\n",
    "                for i, var in enumerate(basic):\n",
    "                    if var >= n:                 # aún artificial\n",
    "                        row = T[i, :total]\n",
    "                        # candidato para entrar = primer no-básico viable\n",
    "                        cand = [j for j in range(n)            # solo originales\n",
    "                                if j not in basic and abs(row[j]) > TOL]\n",
    "                        if cand:\n",
    "                            j_ent = min(cand)                  # Bland\n",
    "                            _pivot(T, i, j_ent)\n",
    "                            nonbasic.remove(j_ent)\n",
    "                            nonbasic.append(var)\n",
    "                            basic[i] = j_ent\n",
    "                        else:\n",
    "                            # fila artificial redundant → dejarla (se elimina columna)\n",
    "                            pass\n",
    "\n",
    "                # eliminar columnas artificiales\n",
    "                keep = list(range(n)) + [-1]\n",
    "                T = T[:, keep]\n",
    "                total = n\n",
    "                # ---- CORRECCIÓN: limpiar la lista de no básicos -----\n",
    "                nonbasic = sorted(j for j in nonbasic if j < n)\n",
    "                # quitar fila objetivo de Fase I\n",
    "                T = T[:-1, :]\n",
    "\n",
    "                # construir fila de costes original  -c + c_B B^{-1}A\n",
    "                cost2 = np.concatenate((-c, [0.0]))\n",
    "                for i, var in enumerate(basic):\n",
    "                    cost2 += c[var] * T[i]\n",
    "                T = np.vstack((T, -cost2))\n",
    "                phase = 2\n",
    "                continue     # vuelve al while con la Fase II\n",
    "\n",
    "            else:            # fase 2 óptima\n",
    "                x = np.zeros(n)\n",
    "                x[basic] = T[:-1, -1]            # valores básicos\n",
    "                z = -T[-1, -1]\n",
    "                return x, z, basic\n",
    "\n",
    "        # ------------------ ratio test -------------------------------\n",
    "        col = T[:-1, j_enter]\n",
    "        rhs = T[:-1, -1]\n",
    "        i_leave, _ = _ratio_test(rhs, col, basic)\n",
    "        if i_leave == -1:\n",
    "            raise ValueError(\"Problema no acotado.\")\n",
    "\n",
    "        _pivot(T, i_leave, j_enter)\n",
    "\n",
    "        # actualizar listas\n",
    "        var_leave = basic[i_leave]\n",
    "        nonbasic[nonbasic.index(j_enter)] = var_leave\n",
    "        basic[i_leave] = j_enter\n",
    "\n",
    "\n",
    "\n"
   ]
  },
  {
   "cell_type": "markdown",
   "metadata": {},
   "source": [
    "## Pulp Implementation"
   ]
  },
  {
   "cell_type": "code",
   "execution_count": 3,
   "metadata": {},
   "outputs": [],
   "source": [
    "\n",
    "\n",
    "def solve_with_pulp(A: np.ndarray,\n",
    "                    b: np.ndarray,\n",
    "                    c: np.ndarray,\n",
    "                    sense: str = \"min\",\n",
    "                    msg:bool=False\n",
    "                   ):\n",
    "    \"\"\"\n",
    "    Resuelve  min/max c^T x  s.a. A x = b, x >= 0   con PuLP.\n",
    "    Parámetro sense debe ser \"min\" o \"max\".\n",
    "    \"\"\"\n",
    "    m, n = A.shape\n",
    "\n",
    "    # Seleccionar sentido\n",
    "    if sense == \"min\":\n",
    "        direction = LpMinimize\n",
    "    elif sense == \"max\":\n",
    "        direction = LpMaximize\n",
    "    else:\n",
    "        raise ValueError(\"sense debe ser 'min' o 'max'\")\n",
    "\n",
    "    # Crear problema\n",
    "    prob = LpProblem(\"LP\", direction)\n",
    "\n",
    "    # Variables (>=0)\n",
    "    x = [LpVariable(f\"x{i+1}\", lowBound=0) for i in range(n)]\n",
    "\n",
    "    # Función objetivo\n",
    "    prob += sum(c[j] * x[j] for j in range(n))\n",
    "\n",
    "    # Restricciones Ax = b\n",
    "    for i in range(m):\n",
    "        prob += sum(A[i, j] * x[j] for j in range(n)) == b[i]\n",
    "    \n",
    "    solver = PULP_CBC_CMD(msg=msg)\n",
    "    prob.solve(solver)\n",
    "\n",
    "    x_val = np.array([value(v) for v in x])\n",
    "    z_val = value(prob.objective)\n",
    "    return x_val, z_val\n"
   ]
  },
  {
   "cell_type": "markdown",
   "metadata": {},
   "source": [
    "### Check the rank of A"
   ]
  },
  {
   "cell_type": "code",
   "execution_count": 4,
   "metadata": {},
   "outputs": [],
   "source": [
    "def matrix_rank(A: np.ndarray, tol: float = 1e-12) -> int:\n",
    "    \"\"\"\n",
    "    Devuelve el rango numérico de la matriz A (ndarray) usando SVD.\n",
    "\n",
    "    Parámetros\n",
    "    ----------\n",
    "    A   : array_like, shape (m, n)\n",
    "    tol : tolerancia relativa/absoluta para considerar un valor singular “cero”.\n",
    "          Por defecto 1·10⁻¹².\n",
    "\n",
    "    Retorna\n",
    "    -------\n",
    "    r   : int\n",
    "        Número de valores singulares mayores que tol · σ_max.\n",
    "    \"\"\"\n",
    "    # valores singulares de A\n",
    "    s = np.linalg.svd(A, compute_uv=False)\n",
    "    if s.size == 0:        # matriz vacía\n",
    "        return 0\n",
    "    # umbral: tol * σ_max\n",
    "    thresh = tol * s[0]\n",
    "    return int(np.sum(s > thresh))"
   ]
  },
  {
   "cell_type": "markdown",
   "metadata": {},
   "source": [
    "## Solve the example"
   ]
  },
  {
   "cell_type": "code",
   "execution_count": 5,
   "metadata": {},
   "outputs": [
    {
     "name": "stdout",
     "output_type": "stream",
     "text": [
      "A =\n",
      " [[1. 1. 1. 0.]\n",
      " [2. 1. 0. 1.]]\n",
      "b = [4. 5.] \n",
      "\n",
      "c = [-3. -2.  0.  0.]\n"
     ]
    }
   ],
   "source": [
    "A = np.array([[1, 1, 1, 0],\n",
    "              [2, 1, 0, 1]], dtype=float)\n",
    "b = np.array([4, 5], dtype=float)\n",
    "c = np.array([-3, -2, 0, 0], dtype=float)      # minimizar cᵀx\n",
    "print(\"A =\\n\", A)      # nota el \\n\n",
    "print(\"b =\", b, \"\\n\")  # \\n opcional para dejar línea en blanco\n",
    "print(\"c =\", c)"
   ]
  },
  {
   "cell_type": "code",
   "execution_count": 6,
   "metadata": {},
   "outputs": [
    {
     "data": {
      "text/plain": [
       "(2, 4)"
      ]
     },
     "execution_count": 6,
     "metadata": {},
     "output_type": "execute_result"
    }
   ],
   "source": [
    "A.shape"
   ]
  },
  {
   "cell_type": "code",
   "execution_count": 7,
   "metadata": {},
   "outputs": [
    {
     "data": {
      "text/plain": [
       "2"
      ]
     },
     "execution_count": 7,
     "metadata": {},
     "output_type": "execute_result"
    }
   ],
   "source": [
    "matrix_rank(A)"
   ]
  },
  {
   "cell_type": "code",
   "execution_count": 8,
   "metadata": {},
   "outputs": [
    {
     "name": "stdout",
     "output_type": "stream",
     "text": [
      "Fase 1  Base [4, 5]  z = -9\n",
      "Fase 1  Base [4, 0]  z = -1.5\n",
      "Fase 1  Base [1, 0]  z = 0\n",
      "Fase 2  Base [1, 0]  z = -9\n",
      "\n",
      "Solución óptima: [1. 3. 0. 0.]\n",
      "Costo óptimo   : -9.0\n",
      "Base final     : [1, 0]\n"
     ]
    }
   ],
   "source": [
    "x_opt, z_opt, final_basis = simplex(A, b, c)\n",
    "\n",
    "print(\"\\nSolución óptima:\", x_opt)\n",
    "print(\"Costo óptimo   :\", z_opt)\n",
    "print(\"Base final     :\", final_basis)"
   ]
  },
  {
   "cell_type": "code",
   "execution_count": 9,
   "metadata": {},
   "outputs": [
    {
     "name": "stdout",
     "output_type": "stream",
     "text": [
      "Solución óptima = [1. 3. 0. 0.]\n",
      "Costo óptimo = -9.0\n"
     ]
    }
   ],
   "source": [
    "x_opt, z_opt = solve_with_pulp(A, b, c, sense=\"min\")\n",
    "print(\"Solución óptima =\", x_opt)\n",
    "print(\"Costo óptimo =\", z_opt)"
   ]
  },
  {
   "cell_type": "markdown",
   "metadata": {},
   "source": [
    "## Bigger example"
   ]
  },
  {
   "cell_type": "code",
   "execution_count": 21,
   "metadata": {},
   "outputs": [],
   "source": [
    "A = np.array([\n",
    "    [5, 1, 4, 4, 4, -2, 4, 3, 52, 1],\n",
    "    [1, 5, -3, 2, 1, 2, -2, 14, 2, -5],\n",
    "    [4, -1, 4, 1, -1, 4, -214, 2, 4, 4],\n",
    "    [4, -11, 2, 2, 2, 1, 0, 5, 14, 4],\n",
    "    [3, 5, 3, 1, 1, -5, 11, 5, 2, 5]\n",
    "], dtype=float)\n",
    "\n",
    "b = np.array([33, 24, 28, 28, 31], dtype=float)   #  = A @ np.ones(10)\n",
    "\n",
    "# función objetivo  min c^T x\n",
    "c = np.array([9, 2, 2, 8, 4, 7, 8, 3, 1, 4], dtype=float)"
   ]
  },
  {
   "cell_type": "code",
   "execution_count": 22,
   "metadata": {},
   "outputs": [
    {
     "data": {
      "text/plain": [
       "5"
      ]
     },
     "execution_count": 22,
     "metadata": {},
     "output_type": "execute_result"
    }
   ],
   "source": [
    "matrix_rank(A)"
   ]
  },
  {
   "cell_type": "code",
   "execution_count": 23,
   "metadata": {},
   "outputs": [
    {
     "data": {
      "text/plain": [
       "(5, 10)"
      ]
     },
     "execution_count": 23,
     "metadata": {},
     "output_type": "execute_result"
    }
   ],
   "source": [
    "A.shape"
   ]
  },
  {
   "cell_type": "markdown",
   "metadata": {},
   "source": [
    "### Pulp solution"
   ]
  },
  {
   "cell_type": "code",
   "execution_count": 25,
   "metadata": {},
   "outputs": [
    {
     "name": "stdout",
     "output_type": "stream",
     "text": [
      "Solución óptima= [0.       0.       4.624128 0.       0.       0.168269 0.       2.899078\n",
      " 0.105583 0.652482]\n",
      "Costo óptimo = 21.838880460000002\n"
     ]
    }
   ],
   "source": [
    "x_opt, z_opt = solve_with_pulp(A, b, c, sense=\"min\")\n",
    "print(\"Solución óptima=\", x_opt)\n",
    "print(\"Costo óptimo =\", z_opt)"
   ]
  },
  {
   "cell_type": "markdown",
   "metadata": {},
   "source": [
    "### Numpy Solution"
   ]
  },
  {
   "cell_type": "code",
   "execution_count": 26,
   "metadata": {},
   "outputs": [
    {
     "name": "stdout",
     "output_type": "stream",
     "text": [
      "Fase 1  Base [10, 11, 12, 13, 14]  z = -144\n",
      "Fase 1  Base [0, 11, 12, 13, 14]  z = -31.8\n",
      "Fase 1  Base [0, 11, 5, 13, 14]  z = -29.8571\n",
      "Fase 1  Base [0, 11, 5, 6, 14]  z = -29.4257\n",
      "Fase 1  Base [0, 1, 5, 6, 14]  z = -26.0772\n",
      "Fase 1  Base [0, 1, 5, 7, 14]  z = -8.25886\n",
      "Fase 1  Base [0, 1, 2, 7, 14]  z = -2.21821\n",
      "Fase 1  Base [0, 3, 2, 7, 14]  z = -2.02256\n",
      "Fase 1  Base [0, 4, 2, 7, 14]  z = -1.72727\n",
      "Fase 1  Base [0, 4, 2, 7, 13]  z = -0.904762\n",
      "Fase 1  Base [0, 6, 2, 7, 13]  z = -0.385214\n",
      "Fase 1  Base [0, 6, 2, 7, 5]  z = -1.57652e-14\n",
      "Fase 2  Base [0, 6, 2, 7, 5]  z = 26.6811\n",
      "Fase 2  Base [1, 6, 2, 7, 5]  z = 26.1317\n",
      "Fase 2  Base [3, 6, 2, 7, 5]  z = 25.9826\n",
      "Fase 2  Base [4, 6, 2, 7, 5]  z = 25.807\n",
      "Fase 2  Base [8, 6, 2, 7, 5]  z = 25.7192\n",
      "Fase 2  Base [8, 9, 2, 7, 5]  z = 21.8389\n",
      "\n",
      "Solución óptima: [0.       0.       4.624128 0.       0.       0.168269 0.       2.899078\n",
      " 0.105583 0.652482]\n",
      "Costo óptimo   : 21.83888048411497\n",
      "Base final     : [8, 9, 2, 7, 5]\n"
     ]
    }
   ],
   "source": [
    "# La base identidad inicial son las columnas 2 y 3 (índices 2,3)\n",
    "x_opt, z_opt, final_basis = simplex(A, b, c)\n",
    "\n",
    "print(\"\\nSolución óptima:\", x_opt)\n",
    "print(\"Costo óptimo   :\", z_opt)\n",
    "print(\"Base final     :\", final_basis)"
   ]
  }
 ],
 "metadata": {
  "kernelspec": {
   "display_name": "topics_alg",
   "language": "python",
   "name": "python3"
  },
  "language_info": {
   "codemirror_mode": {
    "name": "ipython",
    "version": 3
   },
   "file_extension": ".py",
   "mimetype": "text/x-python",
   "name": "python",
   "nbconvert_exporter": "python",
   "pygments_lexer": "ipython3",
   "version": "3.9.21"
  }
 },
 "nbformat": 4,
 "nbformat_minor": 2
}
